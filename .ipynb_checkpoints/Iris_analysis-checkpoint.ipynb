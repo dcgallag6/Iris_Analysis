{
 "cells": [
  {
   "cell_type": "markdown",
   "metadata": {
    "colab_type": "text",
    "id": "2te-O2GKBQpH"
   },
   "source": [
    "# Objective\n",
    "The goal of this project is to start from raw data, read it into python then take analytical and statstical observations, and finally do supervised and unsupervised learning. The data we will use for this project is one of the most famous datasets in the machine learning world which is called IRIS classification dataset. \n",
    "\n",
    "Fisher's Iris data set is a multivariate data set introduced by the British statistician and biologist Ronald Fisher in his 1936 paper \"The use of multiple measurements in taxonomic problems\" as an example of linear discriminant analysis. \n",
    "This project shows my capabilities to load data, clean it up, running some tests and statistical analysis and finally use machine learning. The project consists of four parts, they are mostly independent"
   ]
  },
  {
   "cell_type": "markdown",
   "metadata": {
    "colab_type": "text",
    "id": "WVsbw6SKBQpO"
   },
   "source": [
    "# Part1: Data Loading and Cleaning up\n",
    "The iris flower dataset consists of 150 collected observations for different flower's characteristics. The dataset contains four attributes. These four attributes help decide which Iris class the flower belongs to. The four attributes are sepal length, sepal width, petal length, and petal width; all in cm. The data set contains 3 classes Iris Setosa, Iris Versicolour, and Iris Virginica. For more info about the dataset, you can check [this link](https://en.wikipedia.org/wiki/Iris_flower_data_set). The end target of the project will be to build a model that can predict, based on the four attributes, which class does the flower belong to.\n",
    "\n",
    "In the first part of the project we will start by loading the data and cleaning up any problems within the data. Now let's do some exploring."
   ]
  },
  {
   "cell_type": "code",
   "execution_count": 17,
   "metadata": {
    "colab": {},
    "colab_type": "code",
    "id": "coR-W8A1BQpQ"
   },
   "outputs": [],
   "source": [
    "# imports\n",
    "from IPython.core.interactiveshell import InteractiveShell\n",
    "InteractiveShell.ast_node_interactivity = \"all\"\n",
    "import pandas as pd\n",
    "import numpy as np\n",
    "\n",
    "# load data\n",
    "names = ['sepal length','sepal width','petal length','petal width','class']\n",
    "flower = pd.read_csv('iris_not_clean.data',\n",
    "                     header = None,\n",
    "                     skiprows=[1, 34],\n",
    "                     sep = '|',\n",
    "                     names = names\n",
    "                    )"
   ]
  },
  {
   "cell_type": "code",
   "execution_count": 18,
   "metadata": {},
   "outputs": [
    {
     "data": {
      "text/plain": [
       "(153, 5)"
      ]
     },
     "execution_count": 18,
     "metadata": {},
     "output_type": "execute_result"
    },
    {
     "name": "stdout",
     "output_type": "stream",
     "text": [
      "The iris data set has 153 rows and 5 columns\n"
     ]
    }
   ],
   "source": [
    "# explore data dimensions\n",
    "flower.shape\n",
    "print('The iris data set has',flower.shape[0],'rows and',flower.shape[1],'columns')"
   ]
  },
  {
   "cell_type": "code",
   "execution_count": 19,
   "metadata": {},
   "outputs": [
    {
     "name": "stdout",
     "output_type": "stream",
     "text": [
      "The total number of null values is 9\n"
     ]
    }
   ],
   "source": [
    "# how many nulls in the file\n",
    "row_nan_sums =flower.isnull().sum(axis = 1)\n",
    "print('The total number of null values is',row_nan_sums.sum())"
   ]
  },
  {
   "cell_type": "code",
   "execution_count": 20,
   "metadata": {},
   "outputs": [
    {
     "name": "stdout",
     "output_type": "stream",
     "text": [
      "Rows that contain nulls and how many of each:\n"
     ]
    },
    {
     "data": {
      "text/plain": [
       "28    1\n",
       "29    5\n",
       "44    3\n",
       "dtype: int64"
      ]
     },
     "execution_count": 20,
     "metadata": {},
     "output_type": "execute_result"
    }
   ],
   "source": [
    "# nans per row\n",
    "nan_df = flower[row_nan_sums>0]\n",
    "print('Rows that contain nulls and how many of each:')\n",
    "nan_df.isnull().sum(axis = 1)"
   ]
  },
  {
   "cell_type": "code",
   "execution_count": 21,
   "metadata": {},
   "outputs": [
    {
     "name": "stdout",
     "output_type": "stream",
     "text": [
      "NaNs per column:\n"
     ]
    },
    {
     "data": {
      "text/plain": [
       "sepal length    2\n",
       "sepal width     1\n",
       "petal length    2\n",
       "petal width     2\n",
       "class           2\n",
       "dtype: int64"
      ]
     },
     "execution_count": 21,
     "metadata": {},
     "output_type": "execute_result"
    }
   ],
   "source": [
    "# nans per column\n",
    "column_nan_sums =flower.isnull().sum()\n",
    "print('NaNs per column:')\n",
    "column_nan_sums"
   ]
  },
  {
   "cell_type": "code",
   "execution_count": 22,
   "metadata": {},
   "outputs": [
    {
     "name": "stdout",
     "output_type": "stream",
     "text": [
      "Original sample:\n"
     ]
    },
    {
     "data": {
      "text/plain": [
       "sepal length            4.9\n",
       "sepal width             3.1\n",
       "petal length            1.5\n",
       "petal width             0.1\n",
       "class           Iris-setosa\n",
       "Name: 35, dtype: object"
      ]
     },
     "execution_count": 22,
     "metadata": {},
     "output_type": "execute_result"
    },
    {
     "name": "stdout",
     "output_type": "stream",
     "text": [
      "Corrected sample:\n"
     ]
    },
    {
     "data": {
      "text/plain": [
       "sepal length            4.9\n",
       "sepal width             3.1\n",
       "petal length            1.5\n",
       "petal width             0.2\n",
       "class           Iris-setosa\n",
       "Name: 35, dtype: object"
      ]
     },
     "execution_count": 22,
     "metadata": {},
     "output_type": "execute_result"
    }
   ],
   "source": [
    "# The current 36th sample\n",
    "print('Original sample:')\n",
    "flower.iloc[35]\n",
    "\n",
    "# The 35th sample should be: 4.9,3.1,1.5,0.2,\"Iris-setosa\"\n",
    "flower.iloc[35] = [4.9,3.1,1.5,0.2,\"Iris-setosa\"]\n",
    "print('Corrected sample:')\n",
    "flower.iloc[35]"
   ]
  },
  {
   "cell_type": "code",
   "execution_count": 23,
   "metadata": {},
   "outputs": [
    {
     "name": "stdout",
     "output_type": "stream",
     "text": [
      "Original sample:\n"
     ]
    },
    {
     "data": {
      "text/plain": [
       "sepal length            4.9\n",
       "sepal width             3.1\n",
       "petal length            1.5\n",
       "petal width             0.1\n",
       "class           Iris-setosa\n",
       "Name: 38, dtype: object"
      ]
     },
     "execution_count": 23,
     "metadata": {},
     "output_type": "execute_result"
    },
    {
     "name": "stdout",
     "output_type": "stream",
     "text": [
      "Corrected sample:\n"
     ]
    },
    {
     "data": {
      "text/plain": [
       "sepal length            4.9\n",
       "sepal width             3.6\n",
       "petal length            1.4\n",
       "petal width             0.1\n",
       "class           Iris-setosa\n",
       "Name: 38, dtype: object"
      ]
     },
     "execution_count": 23,
     "metadata": {},
     "output_type": "execute_result"
    }
   ],
   "source": [
    "# The current 39th sample\n",
    "print('Original sample:')\n",
    "flower.loc[38]\n",
    "\n",
    "# The 39th sample should be: 4.9,3.6,1.4,0.1,\"Iris-setosa\"\n",
    "flower.loc[38] = [4.9,3.6,1.4,0.1,\"Iris-setosa\"]\n",
    "print('Corrected sample:')\n",
    "flower.loc[38]"
   ]
  },
  {
   "cell_type": "markdown",
   "metadata": {
    "colab_type": "text",
    "id": "a1bbJo4cBQpT"
   },
   "source": [
    "# Part 2: Stastical Exploring\n",
    "In this part we will understand a little more about the data and do some cool plottings"
   ]
  },
  {
   "cell_type": "code",
   "execution_count": 24,
   "metadata": {},
   "outputs": [],
   "source": [
    "# drop nan rows\n",
    "flower.dropna(inplace= True)"
   ]
  },
  {
   "cell_type": "code",
   "execution_count": 25,
   "metadata": {},
   "outputs": [
    {
     "name": "stdout",
     "output_type": "stream",
     "text": [
      "Mean for each column:\n"
     ]
    },
    {
     "name": "stderr",
     "output_type": "stream",
     "text": [
      "C:\\Users\\dcgal\\AppData\\Local\\Temp/ipykernel_88/4129795210.py:3: FutureWarning: Dropping of nuisance columns in DataFrame reductions (with 'numeric_only=None') is deprecated; in a future version this will raise TypeError.  Select only valid columns before calling the reduction.\n",
      "  flower.mean()\n"
     ]
    },
    {
     "data": {
      "text/plain": [
       "sepal length    5.838000\n",
       "sepal width     3.057333\n",
       "petal length    3.757333\n",
       "petal width     1.199333\n",
       "dtype: float64"
      ]
     },
     "execution_count": 25,
     "metadata": {},
     "output_type": "execute_result"
    },
    {
     "name": "stdout",
     "output_type": "stream",
     "text": [
      "Variance for each column\n"
     ]
    },
    {
     "name": "stderr",
     "output_type": "stream",
     "text": [
      "C:\\Users\\dcgal\\AppData\\Local\\Temp/ipykernel_88/4129795210.py:6: FutureWarning: Dropping of nuisance columns in DataFrame reductions (with 'numeric_only=None') is deprecated; in a future version this will raise TypeError.  Select only valid columns before calling the reduction.\n",
      "  flower.var()\n"
     ]
    },
    {
     "data": {
      "text/plain": [
       "sepal length    0.696868\n",
       "sepal width     0.189979\n",
       "petal length    3.119510\n",
       "petal width     0.581006\n",
       "dtype: float64"
      ]
     },
     "execution_count": 25,
     "metadata": {},
     "output_type": "execute_result"
    },
    {
     "data": {
      "text/html": [
       "<div>\n",
       "<style scoped>\n",
       "    .dataframe tbody tr th:only-of-type {\n",
       "        vertical-align: middle;\n",
       "    }\n",
       "\n",
       "    .dataframe tbody tr th {\n",
       "        vertical-align: top;\n",
       "    }\n",
       "\n",
       "    .dataframe thead th {\n",
       "        text-align: right;\n",
       "    }\n",
       "</style>\n",
       "<table border=\"1\" class=\"dataframe\">\n",
       "  <thead>\n",
       "    <tr style=\"text-align: right;\">\n",
       "      <th></th>\n",
       "      <th>sepal length</th>\n",
       "      <th>sepal width</th>\n",
       "      <th>petal length</th>\n",
       "      <th>petal width</th>\n",
       "    </tr>\n",
       "  </thead>\n",
       "  <tbody>\n",
       "    <tr>\n",
       "      <th>count</th>\n",
       "      <td>150.000000</td>\n",
       "      <td>150.000000</td>\n",
       "      <td>150.000000</td>\n",
       "      <td>150.000000</td>\n",
       "    </tr>\n",
       "    <tr>\n",
       "      <th>mean</th>\n",
       "      <td>5.838000</td>\n",
       "      <td>3.057333</td>\n",
       "      <td>3.757333</td>\n",
       "      <td>1.199333</td>\n",
       "    </tr>\n",
       "    <tr>\n",
       "      <th>std</th>\n",
       "      <td>0.834786</td>\n",
       "      <td>0.435866</td>\n",
       "      <td>1.766213</td>\n",
       "      <td>0.762238</td>\n",
       "    </tr>\n",
       "    <tr>\n",
       "      <th>min</th>\n",
       "      <td>4.300000</td>\n",
       "      <td>2.000000</td>\n",
       "      <td>1.000000</td>\n",
       "      <td>0.100000</td>\n",
       "    </tr>\n",
       "    <tr>\n",
       "      <th>25%</th>\n",
       "      <td>5.100000</td>\n",
       "      <td>2.800000</td>\n",
       "      <td>1.600000</td>\n",
       "      <td>0.300000</td>\n",
       "    </tr>\n",
       "    <tr>\n",
       "      <th>50%</th>\n",
       "      <td>5.800000</td>\n",
       "      <td>3.000000</td>\n",
       "      <td>4.350000</td>\n",
       "      <td>1.300000</td>\n",
       "    </tr>\n",
       "    <tr>\n",
       "      <th>75%</th>\n",
       "      <td>6.400000</td>\n",
       "      <td>3.300000</td>\n",
       "      <td>5.100000</td>\n",
       "      <td>1.800000</td>\n",
       "    </tr>\n",
       "    <tr>\n",
       "      <th>max</th>\n",
       "      <td>7.900000</td>\n",
       "      <td>4.400000</td>\n",
       "      <td>6.900000</td>\n",
       "      <td>2.500000</td>\n",
       "    </tr>\n",
       "  </tbody>\n",
       "</table>\n",
       "</div>"
      ],
      "text/plain": [
       "       sepal length  sepal width  petal length  petal width\n",
       "count    150.000000   150.000000    150.000000   150.000000\n",
       "mean       5.838000     3.057333      3.757333     1.199333\n",
       "std        0.834786     0.435866      1.766213     0.762238\n",
       "min        4.300000     2.000000      1.000000     0.100000\n",
       "25%        5.100000     2.800000      1.600000     0.300000\n",
       "50%        5.800000     3.000000      4.350000     1.300000\n",
       "75%        6.400000     3.300000      5.100000     1.800000\n",
       "max        7.900000     4.400000      6.900000     2.500000"
      ]
     },
     "execution_count": 25,
     "metadata": {},
     "output_type": "execute_result"
    }
   ],
   "source": [
    "# calculate mean\n",
    "print('Mean for each column:')\n",
    "flower.mean()\n",
    "# calculate variance\n",
    "print('Variance for each column')\n",
    "flower.var()\n",
    "flower.describe()"
   ]
  },
  {
   "cell_type": "code",
   "execution_count": 26,
   "metadata": {},
   "outputs": [
    {
     "data": {
      "text/plain": [
       "sepal length    0.819789\n",
       "sepal width    -0.366126\n",
       "petal length    0.962865\n",
       "petal width     1.000000\n",
       "Name: petal width, dtype: float64"
      ]
     },
     "execution_count": 26,
     "metadata": {},
     "output_type": "execute_result"
    }
   ],
   "source": [
    "# correlation between the fourth column and each of the other three columns\n",
    "flower.corr()['petal width']"
   ]
  },
  {
   "cell_type": "markdown",
   "metadata": {},
   "source": [
    "column 1: sepal length  \n",
    "column 2: sepal width  \n",
    "column 3: petal length  \n",
    "column 4: petal width <br>\n",
    "\n",
    "Petal width and petal length are highly correlated with each other with a correlation value of 0.96  \n",
    "Petal width and sepal length are also correlated with each other with a correlation value of 0.82"
   ]
  },
  {
   "cell_type": "code",
   "execution_count": 27,
   "metadata": {},
   "outputs": [
    {
     "data": {
      "text/plain": [
       "Iris-setosa        50\n",
       "Iris-versicolor    50\n",
       "Iris-virginica     50\n",
       "Name: class, dtype: int64"
      ]
     },
     "execution_count": 27,
     "metadata": {},
     "output_type": "execute_result"
    }
   ],
   "source": [
    "# How many records exist for each class. \n",
    "flower['class'].value_counts()"
   ]
  },
  {
   "cell_type": "code",
   "execution_count": 28,
   "metadata": {},
   "outputs": [
    {
     "data": {
      "text/html": [
       "<div>\n",
       "<style scoped>\n",
       "    .dataframe tbody tr th:only-of-type {\n",
       "        vertical-align: middle;\n",
       "    }\n",
       "\n",
       "    .dataframe tbody tr th {\n",
       "        vertical-align: top;\n",
       "    }\n",
       "\n",
       "    .dataframe thead th {\n",
       "        text-align: right;\n",
       "    }\n",
       "</style>\n",
       "<table border=\"1\" class=\"dataframe\">\n",
       "  <thead>\n",
       "    <tr style=\"text-align: right;\">\n",
       "      <th></th>\n",
       "      <th>sepal length</th>\n",
       "      <th>sepal width</th>\n",
       "      <th>petal length</th>\n",
       "      <th>petal width</th>\n",
       "      <th>class</th>\n",
       "    </tr>\n",
       "  </thead>\n",
       "  <tbody>\n",
       "    <tr>\n",
       "      <th>94</th>\n",
       "      <td>6.1</td>\n",
       "      <td>3.0</td>\n",
       "      <td>4.6</td>\n",
       "      <td>1.4</td>\n",
       "      <td>Iris-versicolor</td>\n",
       "    </tr>\n",
       "    <tr>\n",
       "      <th>66</th>\n",
       "      <td>6.1</td>\n",
       "      <td>2.9</td>\n",
       "      <td>4.7</td>\n",
       "      <td>1.4</td>\n",
       "      <td>Iris-versicolor</td>\n",
       "    </tr>\n",
       "    <tr>\n",
       "      <th>106</th>\n",
       "      <td>6.3</td>\n",
       "      <td>2.9</td>\n",
       "      <td>5.6</td>\n",
       "      <td>1.8</td>\n",
       "      <td>Iris-virginica</td>\n",
       "    </tr>\n",
       "    <tr>\n",
       "      <th>6</th>\n",
       "      <td>4.6</td>\n",
       "      <td>3.4</td>\n",
       "      <td>1.4</td>\n",
       "      <td>0.3</td>\n",
       "      <td>Iris-setosa</td>\n",
       "    </tr>\n",
       "    <tr>\n",
       "      <th>62</th>\n",
       "      <td>5.2</td>\n",
       "      <td>2.7</td>\n",
       "      <td>3.9</td>\n",
       "      <td>1.4</td>\n",
       "      <td>Iris-versicolor</td>\n",
       "    </tr>\n",
       "    <tr>\n",
       "      <th>31</th>\n",
       "      <td>4.8</td>\n",
       "      <td>3.1</td>\n",
       "      <td>1.6</td>\n",
       "      <td>0.2</td>\n",
       "      <td>Iris-setosa</td>\n",
       "    </tr>\n",
       "    <tr>\n",
       "      <th>27</th>\n",
       "      <td>5.2</td>\n",
       "      <td>3.5</td>\n",
       "      <td>1.5</td>\n",
       "      <td>0.2</td>\n",
       "      <td>Iris-setosa</td>\n",
       "    </tr>\n",
       "    <tr>\n",
       "      <th>37</th>\n",
       "      <td>5.5</td>\n",
       "      <td>3.5</td>\n",
       "      <td>1.3</td>\n",
       "      <td>0.2</td>\n",
       "      <td>Iris-setosa</td>\n",
       "    </tr>\n",
       "    <tr>\n",
       "      <th>102</th>\n",
       "      <td>5.7</td>\n",
       "      <td>2.8</td>\n",
       "      <td>4.1</td>\n",
       "      <td>1.3</td>\n",
       "      <td>Iris-versicolor</td>\n",
       "    </tr>\n",
       "    <tr>\n",
       "      <th>125</th>\n",
       "      <td>7.7</td>\n",
       "      <td>2.8</td>\n",
       "      <td>6.7</td>\n",
       "      <td>2.0</td>\n",
       "      <td>Iris-virginica</td>\n",
       "    </tr>\n",
       "    <tr>\n",
       "      <th>85</th>\n",
       "      <td>5.8</td>\n",
       "      <td>2.7</td>\n",
       "      <td>3.9</td>\n",
       "      <td>1.2</td>\n",
       "      <td>Iris-versicolor</td>\n",
       "    </tr>\n",
       "    <tr>\n",
       "      <th>45</th>\n",
       "      <td>5.0</td>\n",
       "      <td>3.5</td>\n",
       "      <td>1.6</td>\n",
       "      <td>0.6</td>\n",
       "      <td>Iris-setosa</td>\n",
       "    </tr>\n",
       "    <tr>\n",
       "      <th>120</th>\n",
       "      <td>7.7</td>\n",
       "      <td>3.8</td>\n",
       "      <td>6.7</td>\n",
       "      <td>2.2</td>\n",
       "      <td>Iris-virginica</td>\n",
       "    </tr>\n",
       "    <tr>\n",
       "      <th>64</th>\n",
       "      <td>5.9</td>\n",
       "      <td>3.0</td>\n",
       "      <td>4.2</td>\n",
       "      <td>1.5</td>\n",
       "      <td>Iris-versicolor</td>\n",
       "    </tr>\n",
       "    <tr>\n",
       "      <th>46</th>\n",
       "      <td>5.1</td>\n",
       "      <td>3.8</td>\n",
       "      <td>1.9</td>\n",
       "      <td>0.4</td>\n",
       "      <td>Iris-setosa</td>\n",
       "    </tr>\n",
       "    <tr>\n",
       "      <th>82</th>\n",
       "      <td>5.7</td>\n",
       "      <td>2.6</td>\n",
       "      <td>3.5</td>\n",
       "      <td>1.0</td>\n",
       "      <td>Iris-versicolor</td>\n",
       "    </tr>\n",
       "    <tr>\n",
       "      <th>103</th>\n",
       "      <td>6.3</td>\n",
       "      <td>3.3</td>\n",
       "      <td>6.0</td>\n",
       "      <td>2.5</td>\n",
       "      <td>Iris-virginica</td>\n",
       "    </tr>\n",
       "    <tr>\n",
       "      <th>25</th>\n",
       "      <td>5.0</td>\n",
       "      <td>3.0</td>\n",
       "      <td>1.6</td>\n",
       "      <td>0.2</td>\n",
       "      <td>Iris-setosa</td>\n",
       "    </tr>\n",
       "    <tr>\n",
       "      <th>111</th>\n",
       "      <td>6.7</td>\n",
       "      <td>2.5</td>\n",
       "      <td>5.8</td>\n",
       "      <td>1.8</td>\n",
       "      <td>Iris-virginica</td>\n",
       "    </tr>\n",
       "    <tr>\n",
       "      <th>97</th>\n",
       "      <td>5.6</td>\n",
       "      <td>2.7</td>\n",
       "      <td>4.2</td>\n",
       "      <td>1.3</td>\n",
       "      <td>Iris-versicolor</td>\n",
       "    </tr>\n",
       "  </tbody>\n",
       "</table>\n",
       "</div>"
      ],
      "text/plain": [
       "     sepal length  sepal width  petal length  petal width            class\n",
       "94            6.1          3.0           4.6          1.4  Iris-versicolor\n",
       "66            6.1          2.9           4.7          1.4  Iris-versicolor\n",
       "106           6.3          2.9           5.6          1.8   Iris-virginica\n",
       "6             4.6          3.4           1.4          0.3      Iris-setosa\n",
       "62            5.2          2.7           3.9          1.4  Iris-versicolor\n",
       "31            4.8          3.1           1.6          0.2      Iris-setosa\n",
       "27            5.2          3.5           1.5          0.2      Iris-setosa\n",
       "37            5.5          3.5           1.3          0.2      Iris-setosa\n",
       "102           5.7          2.8           4.1          1.3  Iris-versicolor\n",
       "125           7.7          2.8           6.7          2.0   Iris-virginica\n",
       "85            5.8          2.7           3.9          1.2  Iris-versicolor\n",
       "45            5.0          3.5           1.6          0.6      Iris-setosa\n",
       "120           7.7          3.8           6.7          2.2   Iris-virginica\n",
       "64            5.9          3.0           4.2          1.5  Iris-versicolor\n",
       "46            5.1          3.8           1.9          0.4      Iris-setosa\n",
       "82            5.7          2.6           3.5          1.0  Iris-versicolor\n",
       "103           6.3          3.3           6.0          2.5   Iris-virginica\n",
       "25            5.0          3.0           1.6          0.2      Iris-setosa\n",
       "111           6.7          2.5           5.8          1.8   Iris-virginica\n",
       "97            5.6          2.7           4.2          1.3  Iris-versicolor"
      ]
     },
     "execution_count": 28,
     "metadata": {},
     "output_type": "execute_result"
    }
   ],
   "source": [
    "#set random seed\n",
    "np.random.seed(1234)\n",
    "flower.sample(20)"
   ]
  },
  {
   "cell_type": "code",
   "execution_count": 29,
   "metadata": {},
   "outputs": [
    {
     "data": {
      "text/plain": [
       "array([[<AxesSubplot:title={'center':'sepal length'}>,\n",
       "        <AxesSubplot:title={'center':'sepal width'}>],\n",
       "       [<AxesSubplot:title={'center':'petal length'}>,\n",
       "        <AxesSubplot:title={'center':'petal width'}>]], dtype=object)"
      ]
     },
     "execution_count": 29,
     "metadata": {},
     "output_type": "execute_result"
    },
    {
     "data": {
      "image/png": "[encoded data removed]",
      "text/plain": [
       "<Figure size 432x288 with 4 Axes>"
      ]
     },
     "metadata": {
      "needs_background": "light"
     },
     "output_type": "display_data"
    }
   ],
   "source": [
    "#histogram of features\n",
    "flower.hist()"
   ]
  },
  {
   "cell_type": "code",
   "execution_count": 30,
   "metadata": {},
   "outputs": [
    {
     "data": {
      "text/plain": [
       "class\n",
       "Iris-setosa        [[AxesSubplot(0.125,0.551739;0.336957x0.328261...\n",
       "Iris-versicolor    [[AxesSubplot(0.125,0.551739;0.336957x0.328261...\n",
       "Iris-virginica     [[AxesSubplot(0.125,0.551739;0.336957x0.328261...\n",
       "dtype: object"
      ]
     },
     "execution_count": 30,
     "metadata": {},
     "output_type": "execute_result"
    },
    {
     "data": {
      "image/png": "[encoded data removed]",
      "text/plain": [
       "<Figure size 432x288 with 4 Axes>"
      ]
     },
     "metadata": {
      "needs_background": "light"
     },
     "output_type": "display_data"
    },
    {
     "data": {
      "image/png": "[encoded data removed]",
      "text/plain": [
       "<Figure size 432x288 with 4 Axes>"
      ]
     },
     "metadata": {
      "needs_background": "light"
     },
     "output_type": "display_data"
    },
    {
     "data": {
      "image/png": "[encoded data removed]",
      "text/plain": [
       "<Figure size 432x288 with 4 Axes>"
      ]
     },
     "metadata": {
      "needs_background": "light"
     },
     "output_type": "display_data"
    }
   ],
   "source": [
    "#histogram of features by attribute\n",
    "flower.groupby(by = 'class').hist()"
   ]
  },
  {
   "cell_type": "markdown",
   "metadata": {
    "colab_type": "text",
    "id": "sF-vlELEBQpX"
   },
   "source": [
    "# Part 3: Statistical Analysis \n",
    "In this part,I explore some curve fitting and dimensionality reduction\n"
   ]
  },
  {
   "cell_type": "markdown",
   "metadata": {
    "colab_type": "text",
    "id": "B93x3FK7BQpY"
   },
   "source": [
    "- Use Scipy pdf fitting to do a curve fitting for the petal-length\n",
    "- Plot the normalized histogrm of the petal-length and the estimated pdf on the same figure\n",
    "- Generate new 500 samples using the estimated pdf for the petal-length \n",
    "- Calculate the mean of the new samples and compare how close it is to the mean of the given data"
   ]
  },
  {
   "cell_type": "code",
   "execution_count": 39,
   "metadata": {
    "colab": {},
    "colab_type": "code",
    "id": "fSQbue9YBQpZ"
   },
   "outputs": [
    {
     "data": {
      "text/plain": [
       "(array([0.4180791 , 0.14689266, 0.        , 0.03389831, 0.09039548,\n",
       "        0.29378531, 0.32768362, 0.20338983, 0.12429379, 0.05649718]),\n",
       " array([1.  , 1.59, 2.18, 2.77, 3.36, 3.95, 4.54, 5.13, 5.72, 6.31, 6.9 ]),\n",
       " <BarContainer object of 10 artists>)"
      ]
     },
     "execution_count": 39,
     "metadata": {},
     "output_type": "execute_result"
    },
    {
     "data": {
      "text/plain": [
       "[<matplotlib.lines.Line2D at 0x111492f2ca0>]"
      ]
     },
     "execution_count": 39,
     "metadata": {},
     "output_type": "execute_result"
    },
    {
     "data": {
      "text/plain": [
       "Text(0.5, 0, 'Samples')"
      ]
     },
     "execution_count": 39,
     "metadata": {},
     "output_type": "execute_result"
    },
    {
     "data": {
      "text/plain": [
       "Text(0, 0.5, 'Density')"
      ]
     },
     "execution_count": 39,
     "metadata": {},
     "output_type": "execute_result"
    },
    {
     "data": {
      "text/plain": [
       "<matplotlib.legend.Legend at 0x111492f58b0>"
      ]
     },
     "execution_count": 39,
     "metadata": {},
     "output_type": "execute_result"
    },
    {
     "name": "stdout",
     "output_type": "stream",
     "text": [
      "Original sample mean: 3.7573333333333356\n",
      "New 500 sample mean: 3.8000364568245395\n",
      "Distance between original and new sample means: 0.014857901493092296\n"
     ]
    },
    {
     "data": {
      "image/png": "[encoded data removed]",
      "text/plain": [
       "<Figure size 432x288 with 1 Axes>"
      ]
     },
     "metadata": {
      "needs_background": "light"
     },
     "output_type": "display_data"
    }
   ],
   "source": [
    "import scipy.stats\n",
    "import numpy as np\n",
    "import matplotlib.pyplot as plt\n",
    "%matplotlib inline\n",
    "\n",
    "x1 = flower['petal length']  # data\n",
    "xs = np.linspace(x1.min()-1, x1.max()+1, len(flower['petal length'])) \n",
    "\n",
    "# find out the best fit\n",
    "kde1 = scipy.stats.gaussian_kde(x1)  \n",
    "\n",
    "# plot histogram and pdf\n",
    "fig = plt.figure()\n",
    "plt.hist(x1, density=True, label='Petal Length Histogram')  # rug plot\n",
    "plt.plot(xs, kde1(xs), 'k-', label=\"Estimated Density\")  # test your fit\n",
    "plt.xlabel('Samples')\n",
    "plt.ylabel('Density')\n",
    "plt.legend()\n",
    "plt.savefig('density_curve')\n",
    "\n",
    "#mean of original samples\n",
    "print('Original sample mean:',flower['petal length'].mean())\n",
    "\n",
    "#mean of new samples\n",
    "print('New 500 sample mean:',kde1.resample(500).mean())\n",
    "\n",
    "#distance bewteen means\n",
    "print('Distance between original and new sample means:',\n",
    "      abs(flower['petal length'].mean()-kde1.resample(500).mean()))"
   ]
  },
  {
   "cell_type": "markdown",
   "metadata": {
    "colab_type": "text",
    "id": "0Cei3IgYBQpb"
   },
   "source": [
    "### PCA\n",
    "- Use Scikit to do PCA on the IRIS dataset\n",
    "- Make a bar plot that shows the importance of info in each of the new dimensions\n",
    "- use PCA to reduce the number of attributes by 1. Note that for all the next parts, I will use the reduced data"
   ]
  },
  {
   "cell_type": "code",
   "execution_count": 32,
   "metadata": {
    "colab": {},
    "colab_type": "code",
    "id": "Z8FzKsUlBQpb"
   },
   "outputs": [
    {
     "data": {
      "text/plain": [
       "array([0.92482346, 0.05280611, 0.01715424, 0.00521619])"
      ]
     },
     "execution_count": 32,
     "metadata": {},
     "output_type": "execute_result"
    },
    {
     "data": {
      "text/plain": [
       "<BarContainer object of 4 artists>"
      ]
     },
     "execution_count": 32,
     "metadata": {},
     "output_type": "execute_result"
    },
    {
     "data": {
      "image/png": "[encoded data removed]",
      "text/plain": [
       "<Figure size 432x288 with 1 Axes>"
      ]
     },
     "metadata": {
      "needs_background": "light"
     },
     "output_type": "display_data"
    }
   ],
   "source": [
    "from sklearn.decomposition import PCA\n",
    "import numpy as np\n",
    "# Create a regular PCA model \n",
    "pca_all = PCA()\n",
    "\n",
    "#use the numeric data, no strings\n",
    "flower_numeric = flower.drop('class',axis = 1)\n",
    "\n",
    "#fit model\n",
    "reduced_data_pca = pca_all.fit_transform(flower_numeric)\n",
    "pca_all.explained_variance_ratio_\n",
    "plt.bar(np.arange(4),pca_all.explained_variance_ratio_)"
   ]
  },
  {
   "cell_type": "code",
   "execution_count": 40,
   "metadata": {},
   "outputs": [
    {
     "data": {
      "text/plain": [
       "(150, 3)"
      ]
     },
     "execution_count": 40,
     "metadata": {},
     "output_type": "execute_result"
    },
    {
     "data": {
      "text/plain": [
       "<BarContainer object of 3 artists>"
      ]
     },
     "execution_count": 40,
     "metadata": {},
     "output_type": "execute_result"
    },
    {
     "data": {
      "image/png": "[encoded data removed]",
      "text/plain": [
       "<Figure size 432x288 with 1 Axes>"
      ]
     },
     "metadata": {
      "needs_background": "light"
     },
     "output_type": "display_data"
    }
   ],
   "source": [
    "#set number of components to 3\n",
    "pca = PCA(n_components=3)\n",
    "\n",
    "# Fit and transform the data to the model\n",
    "reduced_data_pca = pca.fit_transform(flower_numeric)\n",
    "\n",
    "# Inspect the shape\n",
    "reduced_data_pca.shape\n",
    "plt.bar(np.arange(3),pca.explained_variance_ratio_)\n",
    "plt.savefig('feature_importance')\n"
   ]
  },
  {
   "cell_type": "code",
   "execution_count": 34,
   "metadata": {},
   "outputs": [
    {
     "data": {
      "text/plain": [
       "3"
      ]
     },
     "execution_count": 34,
     "metadata": {},
     "output_type": "execute_result"
    }
   ],
   "source": [
    "reduced_data_pca.shape[1]"
   ]
  },
  {
   "cell_type": "markdown",
   "metadata": {
    "colab_type": "text",
    "id": "3f5WmWlPBQpe"
   },
   "source": [
    "# Part 4: Machine Learning\n",
    "In this part, I explore the use of supervised and non supervised learning"
   ]
  },
  {
   "cell_type": "markdown",
   "metadata": {
    "colab_type": "text",
    "id": "TStPnwVkBQpe"
   },
   "source": [
    "### Non-Supervised Learning \n",
    "- using Kmeans, divide the data into different clusters. The number of clusters should be the same as the number of categories you have in the data\n",
    "- Do scatter plot for each two combination of the three dimensions together (0 vs 1), (0 vs 2), (1 vs 2). Use the kmeans labels to color the points in the scatter plots"
   ]
  },
  {
   "cell_type": "code",
   "execution_count": 41,
   "metadata": {
    "colab": {},
    "colab_type": "code",
    "id": "RRoQzdxNBQpf"
   },
   "outputs": [
    {
     "data": {
      "text/plain": [
       "KMeans(n_clusters=3)"
      ]
     },
     "execution_count": 41,
     "metadata": {},
     "output_type": "execute_result"
    },
    {
     "name": "stdout",
     "output_type": "stream",
     "text": [
      "[[ 0.67750537 -0.31340702 -0.04387986]\n",
      " [-2.6470055   0.19038144  0.0141198 ]\n",
      " [ 2.37749847  0.26084641  0.05301478]]\n",
      "[1 1 1 1 1 1 1 1 1 1 1 1 1 1 1 1 1 1 1 1 1 1 1 1 1 1 1 1 1 1 1 1 1 1 1 1 1\n",
      " 1 1 1 1 1 1 1 1 1 1 1 1 1 0 0 2 0 0 0 0 0 0 0 0 0 0 0 0 0 0 0 0 0 0 0 0 0\n",
      " 0 0 0 2 0 0 0 0 0 0 0 0 0 0 0 0 0 0 0 0 0 0 0 0 0 0 2 0 2 2 2 2 0 2 2 2 2\n",
      " 2 2 0 0 2 2 2 2 0 2 0 2 0 2 2 0 0 2 2 2 2 2 0 2 2 2 2 0 2 2 2 0 2 2 2 0 2\n",
      " 2 0]\n"
     ]
    },
    {
     "data": {
      "text/plain": [
       "<matplotlib.collections.PathCollection at 0x111492d79d0>"
      ]
     },
     "execution_count": 41,
     "metadata": {},
     "output_type": "execute_result"
    },
    {
     "data": {
      "text/plain": [
       "<matplotlib.collections.PathCollection at 0x111492d7d60>"
      ]
     },
     "execution_count": 41,
     "metadata": {},
     "output_type": "execute_result"
    },
    {
     "data": {
      "image/png": "[encoded data removed]",
      "text/plain": [
       "<Figure size 432x288 with 1 Axes>"
      ]
     },
     "metadata": {
      "needs_background": "light"
     },
     "output_type": "display_data"
    }
   ],
   "source": [
    "# lets form our clusters\n",
    "from sklearn.cluster import KMeans  \n",
    "kmeans = KMeans(n_clusters=reduced_data_pca.shape[1])  \n",
    "kmeans.fit(reduced_data_pca)  \n",
    "print(kmeans.cluster_centers_)  \n",
    "print(kmeans.labels_)\n",
    "\n",
    "# scatter plot\n",
    "plt.scatter(reduced_data_pca[:,0],reduced_data_pca[:,1], c=kmeans.labels_, cmap='rainbow')\n",
    "\n",
    "# Overlay the cluster means\n",
    "plt.scatter(kmeans.cluster_centers_[:,0], kmeans.cluster_centers_[:,1], c ='k')\n",
    "plt.savefig('scatter')\n"
   ]
  },
  {
   "cell_type": "markdown",
   "metadata": {
    "colab_type": "text",
    "id": "_P9Krm4ZBQph"
   },
   "source": [
    "### Supervised-Learning\n",
    "- Divide the dataset to 80% training and 20% validation\n",
    "- Build a Logistic regression model for the reduced IRIS dataset\n",
    "- Form the confusion matrix"
   ]
  },
  {
   "cell_type": "code",
   "execution_count": 42,
   "metadata": {
    "colab": {},
    "colab_type": "code",
    "id": "9R-Ohtk-BQpi"
   },
   "outputs": [
    {
     "data": {
      "text/plain": [
       "LogisticRegression()"
      ]
     },
     "execution_count": 42,
     "metadata": {},
     "output_type": "execute_result"
    },
    {
     "name": "stdout",
     "output_type": "stream",
     "text": [
      "The training accuracy is: 0.975\n",
      "The validation accuracy is: 0.9666666666666667\n"
     ]
    },
    {
     "data": {
      "text/plain": [
       "<AxesSubplot:>"
      ]
     },
     "execution_count": 42,
     "metadata": {},
     "output_type": "execute_result"
    },
    {
     "data": {
      "text/plain": [
       "Text(89.18, 0.5, 'true label')"
      ]
     },
     "execution_count": 42,
     "metadata": {},
     "output_type": "execute_result"
    },
    {
     "data": {
      "text/plain": [
       "Text(0.5, 12.5, 'predicted label')"
      ]
     },
     "execution_count": 42,
     "metadata": {},
     "output_type": "execute_result"
    },
    {
     "data": {
      "image/png": "[encoded data removed]",
      "text/plain": [
       "<Figure size 432x288 with 1 Axes>"
      ]
     },
     "metadata": {},
     "output_type": "display_data"
    }
   ],
   "source": [
    "import warnings\n",
    "warnings.filterwarnings('ignore')\n",
    "from sklearn.model_selection import train_test_split\n",
    "\n",
    "#divide data set into 80% training, 20% testing\n",
    "x_train, x_test, y_train, y_test = train_test_split(reduced_data_pca,flower['class'], test_size=0.20)\n",
    "\n",
    "#Build logistic model\n",
    "from sklearn.linear_model import LogisticRegression\n",
    "logReg = LogisticRegression()\n",
    "logReg.fit(x_train, y_train)\n",
    "\n",
    "#model predictions\n",
    "predict = logReg.predict(x_test)\n",
    "\n",
    "# Use score method to get accuracy of model\n",
    "train_score = logReg.score(x_train, y_train)\n",
    "print('The training accuracy is:',train_score)\n",
    "test_score = logReg.score(x_test, y_test)\n",
    "print('The validation accuracy is:',test_score)\n",
    "\n",
    "# Confusion Matrix\n",
    "from sklearn import metrics\n",
    "cm = metrics.confusion_matrix(y_test, predict)\n",
    "\n",
    "# Stylized Confusion Matrix\n",
    "import seaborn as sns; sns.set()  # for plot styling\n",
    "sns.heatmap(cm, square=True, annot=True, fmt='d', cbar=False,\n",
    "            xticklabels=range(3),\n",
    "            yticklabels=range(3))\n",
    "plt.ylabel('true label')\n",
    "plt.xlabel('predicted label');\n",
    "plt.savefig('confusion_matrix')\n"
   ]
  },
  {
   "cell_type": "code",
   "execution_count": null,
   "metadata": {},
   "outputs": [],
   "source": []
  },
  {
   "cell_type": "code",
   "execution_count": null,
   "metadata": {},
   "outputs": [],
   "source": []
  },
  {
   "cell_type": "code",
   "execution_count": null,
   "metadata": {},
   "outputs": [],
   "source": []
  }
 ],
 "metadata": {
  "colab": {
   "name": "project_desc.ipynb",
   "provenance": []
  },
  "kernelspec": {
   "display_name": "Python 3",
   "language": "python",
   "name": "python3"
  },
  "language_info": {
   "codemirror_mode": {
    "name": "ipython",
    "version": 3
   },
   "file_extension": ".py",
   "mimetype": "text/x-python",
   "name": "python",
   "nbconvert_exporter": "python",
   "pygments_lexer": "ipython3",
   "version": "3.8.3"
  }
 },
 "nbformat": 4,
 "nbformat_minor": 4
}
